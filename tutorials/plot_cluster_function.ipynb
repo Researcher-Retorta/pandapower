{
  "nbformat": 4,
  "nbformat_minor": 0,
  "metadata": {
    "colab": {
      "provenance": []
    },
    "kernelspec": {
      "name": "python3",
      "display_name": "Python 3"
    },
    "language_info": {
      "name": "python"
    }
  },
  "cells": [
    {
      "cell_type": "code",
      "source": [
        "# -*- coding: utf-8 -*-\n",
        "\n",
        "# Copyright (c) 2016-2021 by University of Kassel and Fraunhofer Institute for Energy Economics\n",
        "# and Energy System Technology (IEE), Kassel. All rights reserved.\n",
        "# Copyright (c) 2024 by Fabio S. Retorta, INESCTEC, Centre of Power and Energy Systems. All rights reserved."
      ],
      "metadata": {
        "id": "todj8Lr9xtsL"
      },
      "execution_count": 2,
      "outputs": []
    },
    {
      "cell_type": "code",
      "execution_count": null,
      "metadata": {
        "id": "BXEaauStxTWs"
      },
      "outputs": [],
      "source": [
        "!pip install"
      ]
    },
    {
      "cell_type": "code",
      "source": [
        "import pandas as pd\n",
        "import pandapower as pp\n",
        "from pandapower.plotting.plotly.traces import create_bus_trace, create_line_trace, \\\n",
        "    create_trafo_trace, draw_traces\n",
        "from pandapower.plotting.plotly.get_colors import get_plotly_color_palette\n",
        "from pandapower.topology import create_nxgraph, connected_components\n",
        "from draw_cluster import draw_cluster\n",
        "from cluster_plotly import cluster_plotly"
      ],
      "metadata": {
        "id": "hq1qr57wxb26"
      },
      "execution_count": 7,
      "outputs": []
    },
    {
      "cell_type": "code",
      "source": [
        "net = pp.from_sqlite('Cigre_MV_network_modified')\n",
        "\n",
        "numb_cluster = 5\n",
        "clust_bus = pd.read_excel(f\"Buses_Clustering_{numb_cluster}.xlsx\", engine = 'openpyxl', index_col = 0)\n",
        "clust_bus = clust_bus.drop([\"Bus*\"], axis = 1)\n",
        "# Modified vlevel_plotly function to make cluster graphic\n",
        "cluster_plotly(net, clust_bus)"
      ],
      "metadata": {
        "colab": {
          "base_uri": "https://localhost:8080/",
          "height": 717
        },
        "id": "7lZ-zMASzrJ-",
        "outputId": "3867020a-2b34-4896-8fdf-7abc9a8545f2"
      },
      "execution_count": 8,
      "outputs": [
        {
          "output_type": "display_data",
          "data": {
            "text/html": [
              "<html>\n",
              "<head><meta charset=\"utf-8\" /></head>\n",
              "<body>\n",
              "    <div>            <script src=\"https://cdnjs.cloudflare.com/ajax/libs/mathjax/2.7.5/MathJax.js?config=TeX-AMS-MML_SVG\"></script><script type=\"text/javascript\">if (window.MathJax && window.MathJax.Hub && window.MathJax.Hub.Config) {window.MathJax.Hub.Config({SVG: {font: \"STIX-Web\"}});}</script>                <script type=\"text/javascript\">window.PlotlyConfig = {MathJaxConfig: 'local'};</script>\n",
              "        <script charset=\"utf-8\" src=\"https://cdn.plot.ly/plotly-2.24.1.min.js\"></script>                <div id=\"78b76dce-1521-4c75-8777-ab87c018b84b\" class=\"plotly-graph-div\" style=\"height:700.0px; width:376.9230769230769px;\"></div>            <script type=\"text/javascript\">                                    window.PLOTLYENV=window.PLOTLYENV || {};                                    if (document.getElementById(\"78b76dce-1521-4c75-8777-ab87c018b84b\")) {                    Plotly.newPlot(                        \"78b76dce-1521-4c75-8777-ab87c018b84b\",                        [{\"hoverinfo\":\"text\",\"legendgroup\":\"20.0\",\"line\":{\"color\":\"rgb(128, 128, 128)\",\"width\":2},\"mode\":\"lines\",\"name\":\"lines 20.0 kV\",\"showlegend\":true,\"text\":\"Line 1-2\",\"x\":[4.0,4.0,4.0],\"y\":[15,14.0,13],\"type\":\"scatter\"},{\"hoverinfo\":\"text\",\"legendgroup\":\"20.0\",\"line\":{\"color\":\"rgb(128, 128, 128)\",\"width\":2},\"mode\":\"lines\",\"name\":\"lines 20.0 kV\",\"showlegend\":false,\"text\":\"Line 2-3\",\"x\":[4.0,4.0,4.0],\"y\":[13,12.0,11],\"type\":\"scatter\"},{\"hoverinfo\":\"text\",\"legendgroup\":\"20.0\",\"line\":{\"color\":\"rgb(128, 128, 128)\",\"width\":2},\"mode\":\"lines\",\"name\":\"lines 20.0 kV\",\"showlegend\":false,\"text\":\"Line 3-4\",\"x\":[4.0,3.25,2.5],\"y\":[11,10.0,9],\"type\":\"scatter\"},{\"hoverinfo\":\"text\",\"legendgroup\":\"20.0\",\"line\":{\"color\":\"rgb(128, 128, 128)\",\"width\":2},\"mode\":\"lines\",\"name\":\"lines 20.0 kV\",\"showlegend\":false,\"text\":\"Line 4-5\",\"x\":[2.5,1.75,1.0],\"y\":[9,8.0,7],\"type\":\"scatter\"},{\"hoverinfo\":\"text\",\"legendgroup\":\"20.0\",\"line\":{\"color\":\"rgb(128, 128, 128)\",\"width\":2},\"mode\":\"lines\",\"name\":\"lines 20.0 kV\",\"showlegend\":false,\"text\":\"Line 5-6\",\"x\":[1.0,1.0,1.0],\"y\":[7,5.0,3],\"type\":\"scatter\"},{\"hoverinfo\":\"text\",\"legendgroup\":\"20.0\",\"line\":{\"color\":\"rgb(128, 128, 128)\",\"width\":2},\"mode\":\"lines\",\"name\":\"lines 20.0 kV\",\"showlegend\":false,\"text\":\"Line 7-8\",\"x\":[8.0,8.0,8.0],\"y\":[3,4.0,5],\"type\":\"scatter\"},{\"hoverinfo\":\"text\",\"legendgroup\":\"20.0\",\"line\":{\"color\":\"rgb(128, 128, 128)\",\"width\":2},\"mode\":\"lines\",\"name\":\"lines 20.0 kV\",\"showlegend\":false,\"text\":\"Line 8-9\",\"x\":[8.0,7.0,6.0],\"y\":[5,5.0,5],\"type\":\"scatter\"},{\"hoverinfo\":\"text\",\"legendgroup\":\"20.0\",\"line\":{\"color\":\"rgb(128, 128, 128)\",\"width\":2},\"mode\":\"lines\",\"name\":\"lines 20.0 kV\",\"showlegend\":false,\"text\":\"Line 9-10\",\"x\":[6.0,5.0,4.0],\"y\":[5,5.0,5],\"type\":\"scatter\"},{\"hoverinfo\":\"text\",\"legendgroup\":\"20.0\",\"line\":{\"color\":\"rgb(128, 128, 128)\",\"width\":2},\"mode\":\"lines\",\"name\":\"lines 20.0 kV\",\"showlegend\":false,\"text\":\"Line 10-11\",\"x\":[4.0,4.0,4.0],\"y\":[5,6.0,7],\"type\":\"scatter\"},{\"hoverinfo\":\"text\",\"legendgroup\":\"20.0\",\"line\":{\"color\":\"rgb(128, 128, 128)\",\"width\":2},\"mode\":\"lines\",\"name\":\"lines 20.0 kV\",\"showlegend\":false,\"text\":\"Line 3-8\",\"x\":[4.0,6.0,8.0],\"y\":[11,8.0,5],\"type\":\"scatter\"},{\"hoverinfo\":\"text\",\"legendgroup\":\"20.0\",\"marker\":{\"color\":\"rgb(128, 128, 128)\",\"size\":1,\"symbol\":\"circle\"},\"mode\":\"markers\",\"name\":\"edge_center\",\"showlegend\":false,\"x\":[4.0],\"y\":[14.0],\"type\":\"scatter\"},{\"hoverinfo\":\"text\",\"legendgroup\":\"2W transformers\",\"line\":{\"color\":\"rgb(128, 128, 128)\",\"width\":4},\"mode\":\"lines\",\"name\":\"2W transformers\",\"showlegend\":true,\"text\":\"Trafo 0-1\",\"x\":[7.0,5.5,4.0],\"y\":[16,15.5,15],\"type\":\"scatter\"},{\"hoverinfo\":\"text\",\"legendgroup\":\"2W transformers\",\"marker\":{\"color\":\"rgb(128, 128, 128)\",\"size\":1,\"symbol\":\"circle\"},\"mode\":\"markers\",\"name\":\"edge_center\",\"showlegend\":false,\"x\":[5.5],\"y\":[15.5],\"type\":\"scatter\"},{\"hoverinfo\":\"text\",\"legendgroup\":\"1\",\"marker\":{\"color\":\"rgb(219, 95, 87)\",\"size\":10,\"symbol\":\"circle\"},\"mode\":\"markers\",\"name\":\"Cluster 1\",\"text\":[\"Bus 3\",\"Bus 4\",\"Bus 5\",\"Bus 6\"],\"x\":[4.0,2.5,1.0,1.0],\"y\":[11,9,7,3],\"type\":\"scatter\"},{\"hoverinfo\":\"text\",\"legendgroup\":\"2\",\"marker\":{\"color\":\"rgb(185, 219, 87)\",\"size\":10,\"symbol\":\"circle\"},\"mode\":\"markers\",\"name\":\"Cluster 2\",\"text\":[\"Bus 8\",\"Bus 9\",\"Bus 10\",\"Bus 11\"],\"x\":[8.0,6.0,4.0,4.0],\"y\":[5,5,5,7],\"type\":\"scatter\"},{\"hoverinfo\":\"text\",\"legendgroup\":\"3\",\"marker\":{\"color\":\"rgb(87, 219, 148)\",\"size\":10,\"symbol\":\"circle\"},\"mode\":\"markers\",\"name\":\"Cluster 3\",\"text\":[\"Bus 7\"],\"x\":[8.0],\"y\":[3],\"type\":\"scatter\"},{\"hoverinfo\":\"text\",\"legendgroup\":\"4\",\"marker\":{\"color\":\"rgb(87, 132, 219)\",\"size\":10,\"symbol\":\"circle\"},\"mode\":\"markers\",\"name\":\"Cluster 4\",\"text\":[\"Bus 1\"],\"x\":[4.0],\"y\":[15],\"type\":\"scatter\"},{\"hoverinfo\":\"text\",\"legendgroup\":\"5\",\"marker\":{\"color\":\"rgb(201, 87, 219)\",\"size\":10,\"symbol\":\"circle\"},\"mode\":\"markers\",\"name\":\"Cluster 5\",\"text\":[\"Bus 2\"],\"x\":[4.0],\"y\":[13],\"type\":\"scatter\"}],                        {\"autosize\":true,\"hovermode\":\"closest\",\"margin\":{\"b\":5,\"l\":5,\"r\":5,\"t\":5},\"showlegend\":true,\"title\":{\"font\":{\"size\":16}},\"xaxis\":{\"showgrid\":false,\"showticklabels\":false,\"zeroline\":false},\"yaxis\":{\"showgrid\":false,\"showticklabels\":false,\"zeroline\":false},\"template\":{\"data\":{\"histogram2dcontour\":[{\"type\":\"histogram2dcontour\",\"colorbar\":{\"outlinewidth\":0,\"ticks\":\"\"},\"colorscale\":[[0.0,\"#0d0887\"],[0.1111111111111111,\"#46039f\"],[0.2222222222222222,\"#7201a8\"],[0.3333333333333333,\"#9c179e\"],[0.4444444444444444,\"#bd3786\"],[0.5555555555555556,\"#d8576b\"],[0.6666666666666666,\"#ed7953\"],[0.7777777777777778,\"#fb9f3a\"],[0.8888888888888888,\"#fdca26\"],[1.0,\"#f0f921\"]]}],\"choropleth\":[{\"type\":\"choropleth\",\"colorbar\":{\"outlinewidth\":0,\"ticks\":\"\"}}],\"histogram2d\":[{\"type\":\"histogram2d\",\"colorbar\":{\"outlinewidth\":0,\"ticks\":\"\"},\"colorscale\":[[0.0,\"#0d0887\"],[0.1111111111111111,\"#46039f\"],[0.2222222222222222,\"#7201a8\"],[0.3333333333333333,\"#9c179e\"],[0.4444444444444444,\"#bd3786\"],[0.5555555555555556,\"#d8576b\"],[0.6666666666666666,\"#ed7953\"],[0.7777777777777778,\"#fb9f3a\"],[0.8888888888888888,\"#fdca26\"],[1.0,\"#f0f921\"]]}],\"heatmap\":[{\"type\":\"heatmap\",\"colorbar\":{\"outlinewidth\":0,\"ticks\":\"\"},\"colorscale\":[[0.0,\"#0d0887\"],[0.1111111111111111,\"#46039f\"],[0.2222222222222222,\"#7201a8\"],[0.3333333333333333,\"#9c179e\"],[0.4444444444444444,\"#bd3786\"],[0.5555555555555556,\"#d8576b\"],[0.6666666666666666,\"#ed7953\"],[0.7777777777777778,\"#fb9f3a\"],[0.8888888888888888,\"#fdca26\"],[1.0,\"#f0f921\"]]}],\"heatmapgl\":[{\"type\":\"heatmapgl\",\"colorbar\":{\"outlinewidth\":0,\"ticks\":\"\"},\"colorscale\":[[0.0,\"#0d0887\"],[0.1111111111111111,\"#46039f\"],[0.2222222222222222,\"#7201a8\"],[0.3333333333333333,\"#9c179e\"],[0.4444444444444444,\"#bd3786\"],[0.5555555555555556,\"#d8576b\"],[0.6666666666666666,\"#ed7953\"],[0.7777777777777778,\"#fb9f3a\"],[0.8888888888888888,\"#fdca26\"],[1.0,\"#f0f921\"]]}],\"contourcarpet\":[{\"type\":\"contourcarpet\",\"colorbar\":{\"outlinewidth\":0,\"ticks\":\"\"}}],\"contour\":[{\"type\":\"contour\",\"colorbar\":{\"outlinewidth\":0,\"ticks\":\"\"},\"colorscale\":[[0.0,\"#0d0887\"],[0.1111111111111111,\"#46039f\"],[0.2222222222222222,\"#7201a8\"],[0.3333333333333333,\"#9c179e\"],[0.4444444444444444,\"#bd3786\"],[0.5555555555555556,\"#d8576b\"],[0.6666666666666666,\"#ed7953\"],[0.7777777777777778,\"#fb9f3a\"],[0.8888888888888888,\"#fdca26\"],[1.0,\"#f0f921\"]]}],\"surface\":[{\"type\":\"surface\",\"colorbar\":{\"outlinewidth\":0,\"ticks\":\"\"},\"colorscale\":[[0.0,\"#0d0887\"],[0.1111111111111111,\"#46039f\"],[0.2222222222222222,\"#7201a8\"],[0.3333333333333333,\"#9c179e\"],[0.4444444444444444,\"#bd3786\"],[0.5555555555555556,\"#d8576b\"],[0.6666666666666666,\"#ed7953\"],[0.7777777777777778,\"#fb9f3a\"],[0.8888888888888888,\"#fdca26\"],[1.0,\"#f0f921\"]]}],\"mesh3d\":[{\"type\":\"mesh3d\",\"colorbar\":{\"outlinewidth\":0,\"ticks\":\"\"}}],\"scatter\":[{\"fillpattern\":{\"fillmode\":\"overlay\",\"size\":10,\"solidity\":0.2},\"type\":\"scatter\"}],\"parcoords\":[{\"type\":\"parcoords\",\"line\":{\"colorbar\":{\"outlinewidth\":0,\"ticks\":\"\"}}}],\"scatterpolargl\":[{\"type\":\"scatterpolargl\",\"marker\":{\"colorbar\":{\"outlinewidth\":0,\"ticks\":\"\"}}}],\"bar\":[{\"error_x\":{\"color\":\"#2a3f5f\"},\"error_y\":{\"color\":\"#2a3f5f\"},\"marker\":{\"line\":{\"color\":\"#E5ECF6\",\"width\":0.5},\"pattern\":{\"fillmode\":\"overlay\",\"size\":10,\"solidity\":0.2}},\"type\":\"bar\"}],\"scattergeo\":[{\"type\":\"scattergeo\",\"marker\":{\"colorbar\":{\"outlinewidth\":0,\"ticks\":\"\"}}}],\"scatterpolar\":[{\"type\":\"scatterpolar\",\"marker\":{\"colorbar\":{\"outlinewidth\":0,\"ticks\":\"\"}}}],\"histogram\":[{\"marker\":{\"pattern\":{\"fillmode\":\"overlay\",\"size\":10,\"solidity\":0.2}},\"type\":\"histogram\"}],\"scattergl\":[{\"type\":\"scattergl\",\"marker\":{\"colorbar\":{\"outlinewidth\":0,\"ticks\":\"\"}}}],\"scatter3d\":[{\"type\":\"scatter3d\",\"line\":{\"colorbar\":{\"outlinewidth\":0,\"ticks\":\"\"}},\"marker\":{\"colorbar\":{\"outlinewidth\":0,\"ticks\":\"\"}}}],\"scattermapbox\":[{\"type\":\"scattermapbox\",\"marker\":{\"colorbar\":{\"outlinewidth\":0,\"ticks\":\"\"}}}],\"scatterternary\":[{\"type\":\"scatterternary\",\"marker\":{\"colorbar\":{\"outlinewidth\":0,\"ticks\":\"\"}}}],\"scattercarpet\":[{\"type\":\"scattercarpet\",\"marker\":{\"colorbar\":{\"outlinewidth\":0,\"ticks\":\"\"}}}],\"carpet\":[{\"aaxis\":{\"endlinecolor\":\"#2a3f5f\",\"gridcolor\":\"white\",\"linecolor\":\"white\",\"minorgridcolor\":\"white\",\"startlinecolor\":\"#2a3f5f\"},\"baxis\":{\"endlinecolor\":\"#2a3f5f\",\"gridcolor\":\"white\",\"linecolor\":\"white\",\"minorgridcolor\":\"white\",\"startlinecolor\":\"#2a3f5f\"},\"type\":\"carpet\"}],\"table\":[{\"cells\":{\"fill\":{\"color\":\"#EBF0F8\"},\"line\":{\"color\":\"white\"}},\"header\":{\"fill\":{\"color\":\"#C8D4E3\"},\"line\":{\"color\":\"white\"}},\"type\":\"table\"}],\"barpolar\":[{\"marker\":{\"line\":{\"color\":\"#E5ECF6\",\"width\":0.5},\"pattern\":{\"fillmode\":\"overlay\",\"size\":10,\"solidity\":0.2}},\"type\":\"barpolar\"}],\"pie\":[{\"automargin\":true,\"type\":\"pie\"}]},\"layout\":{\"autotypenumbers\":\"strict\",\"colorway\":[\"#636efa\",\"#EF553B\",\"#00cc96\",\"#ab63fa\",\"#FFA15A\",\"#19d3f3\",\"#FF6692\",\"#B6E880\",\"#FF97FF\",\"#FECB52\"],\"font\":{\"color\":\"#2a3f5f\"},\"hovermode\":\"closest\",\"hoverlabel\":{\"align\":\"left\"},\"paper_bgcolor\":\"white\",\"plot_bgcolor\":\"#E5ECF6\",\"polar\":{\"bgcolor\":\"#E5ECF6\",\"angularaxis\":{\"gridcolor\":\"white\",\"linecolor\":\"white\",\"ticks\":\"\"},\"radialaxis\":{\"gridcolor\":\"white\",\"linecolor\":\"white\",\"ticks\":\"\"}},\"ternary\":{\"bgcolor\":\"#E5ECF6\",\"aaxis\":{\"gridcolor\":\"white\",\"linecolor\":\"white\",\"ticks\":\"\"},\"baxis\":{\"gridcolor\":\"white\",\"linecolor\":\"white\",\"ticks\":\"\"},\"caxis\":{\"gridcolor\":\"white\",\"linecolor\":\"white\",\"ticks\":\"\"}},\"coloraxis\":{\"colorbar\":{\"outlinewidth\":0,\"ticks\":\"\"}},\"colorscale\":{\"sequential\":[[0.0,\"#0d0887\"],[0.1111111111111111,\"#46039f\"],[0.2222222222222222,\"#7201a8\"],[0.3333333333333333,\"#9c179e\"],[0.4444444444444444,\"#bd3786\"],[0.5555555555555556,\"#d8576b\"],[0.6666666666666666,\"#ed7953\"],[0.7777777777777778,\"#fb9f3a\"],[0.8888888888888888,\"#fdca26\"],[1.0,\"#f0f921\"]],\"sequentialminus\":[[0.0,\"#0d0887\"],[0.1111111111111111,\"#46039f\"],[0.2222222222222222,\"#7201a8\"],[0.3333333333333333,\"#9c179e\"],[0.4444444444444444,\"#bd3786\"],[0.5555555555555556,\"#d8576b\"],[0.6666666666666666,\"#ed7953\"],[0.7777777777777778,\"#fb9f3a\"],[0.8888888888888888,\"#fdca26\"],[1.0,\"#f0f921\"]],\"diverging\":[[0,\"#8e0152\"],[0.1,\"#c51b7d\"],[0.2,\"#de77ae\"],[0.3,\"#f1b6da\"],[0.4,\"#fde0ef\"],[0.5,\"#f7f7f7\"],[0.6,\"#e6f5d0\"],[0.7,\"#b8e186\"],[0.8,\"#7fbc41\"],[0.9,\"#4d9221\"],[1,\"#276419\"]]},\"xaxis\":{\"gridcolor\":\"white\",\"linecolor\":\"white\",\"ticks\":\"\",\"title\":{\"standoff\":15},\"zerolinecolor\":\"white\",\"automargin\":true,\"zerolinewidth\":2},\"yaxis\":{\"gridcolor\":\"white\",\"linecolor\":\"white\",\"ticks\":\"\",\"title\":{\"standoff\":15},\"zerolinecolor\":\"white\",\"automargin\":true,\"zerolinewidth\":2},\"scene\":{\"xaxis\":{\"backgroundcolor\":\"#E5ECF6\",\"gridcolor\":\"white\",\"linecolor\":\"white\",\"showbackground\":true,\"ticks\":\"\",\"zerolinecolor\":\"white\",\"gridwidth\":2},\"yaxis\":{\"backgroundcolor\":\"#E5ECF6\",\"gridcolor\":\"white\",\"linecolor\":\"white\",\"showbackground\":true,\"ticks\":\"\",\"zerolinecolor\":\"white\",\"gridwidth\":2},\"zaxis\":{\"backgroundcolor\":\"#E5ECF6\",\"gridcolor\":\"white\",\"linecolor\":\"white\",\"showbackground\":true,\"ticks\":\"\",\"zerolinecolor\":\"white\",\"gridwidth\":2}},\"shapedefaults\":{\"line\":{\"color\":\"#2a3f5f\"}},\"annotationdefaults\":{\"arrowcolor\":\"#2a3f5f\",\"arrowhead\":0,\"arrowwidth\":1},\"geo\":{\"bgcolor\":\"white\",\"landcolor\":\"#E5ECF6\",\"subunitcolor\":\"white\",\"showland\":true,\"showlakes\":true,\"lakecolor\":\"white\"},\"title\":{\"x\":0.05},\"mapbox\":{\"style\":\"light\"}}},\"width\":376.9230769230769,\"height\":700.0},                        {\"responsive\": true}                    ).then(function(){\n",
              "                            \n",
              "var gd = document.getElementById('78b76dce-1521-4c75-8777-ab87c018b84b');\n",
              "var x = new MutationObserver(function (mutations, observer) {{\n",
              "        var display = window.getComputedStyle(gd).display;\n",
              "        if (!display || display === 'none') {{\n",
              "            console.log([gd, 'removed!']);\n",
              "            Plotly.purge(gd);\n",
              "            observer.disconnect();\n",
              "        }}\n",
              "}});\n",
              "\n",
              "// Listen for the removal of the full notebook cells\n",
              "var notebookContainer = gd.closest('#notebook-container');\n",
              "if (notebookContainer) {{\n",
              "    x.observe(notebookContainer, {childList: true});\n",
              "}}\n",
              "\n",
              "// Listen for the clearing of the current output cell\n",
              "var outputEl = gd.closest('.output');\n",
              "if (outputEl) {{\n",
              "    x.observe(outputEl, {childList: true});\n",
              "}}\n",
              "\n",
              "                        })                };                            </script>        </div>\n",
              "</body>\n",
              "</html>"
            ]
          },
          "metadata": {}
        }
      ]
    }
  ]
}